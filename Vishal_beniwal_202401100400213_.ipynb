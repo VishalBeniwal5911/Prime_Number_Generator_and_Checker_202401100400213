{
  "nbformat": 4,
  "nbformat_minor": 0,
  "metadata": {
    "colab": {
      "provenance": []
    },
    "kernelspec": {
      "name": "python3",
      "display_name": "Python 3"
    },
    "language_info": {
      "name": "python"
    }
  },
  "cells": [
    {
      "cell_type": "code",
      "source": [
        "def generate_primes(limit):\n",
        "    \"\"\"Generate and print all prime numbers up to a given limit.\"\"\"\n",
        "    primes = []\n",
        "    for num in range(2, limit + 1):\n",
        "        for i in range(2, int(num**0.5) + 1):\n",
        "            if num % i == 0:\n",
        "                break\n",
        "        else:\n",
        "            primes.append(num)\n",
        "    print(\"Prime numbers up to\", limit, \":\", primes)\n",
        "\n",
        "# Menu-based system to allow user interaction\n",
        "while True:\n",
        "    # Display menu options\n",
        "    print(\"\\n1. Check if a number is prime\")\n",
        "    print(\"2. Generate prime numbers up to a limit\")\n",
        "    print(\"3. Exit\")\n",
        "\n",
        "    # Take user input\n",
        "    choice = input(\"Enter your choice: \")\n",
        "\n",
        "    if choice == '1':  # Option to check if a number is prime\n",
        "        num = int(input(\"Enter a number: \"))\n",
        "        if num < 2:\n",
        "            print(f\"{num} is not a prime number.\")\n",
        "        else:\n",
        "            for i in range(2, int(num**0.5) + 1):\n",
        "                if num % i == 0:\n",
        "                    print(f\"{num} is not a prime number.\")\n",
        "                    break\n",
        "            else:\n",
        "                print(f\"{num} is a prime number.\")\n",
        "\n",
        "    elif choice == '2':  # Option to generate prime numbers up to a limit\n",
        "        limit = int(input(\"Enter the limit: \"))\n",
        "        generate_primes(limit)\n",
        "\n",
        "    elif choice == '3':  # Exit the program\n",
        "        print(\"Exiting...\")\n",
        "        break  # Break the loop to stop the program\n",
        "\n",
        "    else:  # Handle invalid input\n",
        "        print(\"Invalid choice! Please try again.\")\n"
      ],
      "metadata": {
        "colab": {
          "base_uri": "https://localhost:8080/"
        },
        "id": "H8RgS1k3UdRT",
        "outputId": "fbd498a1-25f2-4393-e371-41d303c01e56"
      },
      "execution_count": 2,
      "outputs": [
        {
          "output_type": "stream",
          "name": "stdout",
          "text": [
            "\n",
            "1. Check if a number is prime\n",
            "2. Generate prime numbers up to a limit\n",
            "3. Exit\n",
            "Enter your choice: 1\n",
            "Enter a number: 5\n",
            "5 is a prime number.\n",
            "\n",
            "1. Check if a number is prime\n",
            "2. Generate prime numbers up to a limit\n",
            "3. Exit\n",
            "Enter your choice: 2\n",
            "Enter the limit: 15\n",
            "Prime numbers up to 15 : [2, 3, 5, 7, 11, 13]\n",
            "\n",
            "1. Check if a number is prime\n",
            "2. Generate prime numbers up to a limit\n",
            "3. Exit\n",
            "Enter your choice: 3\n",
            "Exiting...\n"
          ]
        }
      ]
    }
  ]
}